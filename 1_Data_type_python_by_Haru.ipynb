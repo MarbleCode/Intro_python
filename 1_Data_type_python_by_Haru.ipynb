{
  "nbformat": 4,
  "nbformat_minor": 0,
  "metadata": {
    "colab": {
      "name": "1_Data_type_python_by_Haru.ipynb",
      "provenance": [],
      "authorship_tag": "ABX9TyNjjIU+6USDGRL/U1bLkx+k",
      "include_colab_link": true
    },
    "kernelspec": {
      "name": "python3",
      "display_name": "Python 3"
    },
    "language_info": {
      "name": "python"
    }
  },
  "cells": [
    {
      "cell_type": "markdown",
      "metadata": {
        "id": "view-in-github",
        "colab_type": "text"
      },
      "source": [
        "<a href=\"https://colab.research.google.com/github/MarbleCode/Intro_python/blob/main/1_Data_type_python_by_Haru.ipynb\" target=\"_parent\"><img src=\"https://colab.research.google.com/assets/colab-badge.svg\" alt=\"Open In Colab\"/></a>"
      ]
    },
    {
      "cell_type": "code",
      "source": [
        "n=5 #integer จำนวนเต็ม"
      ],
      "metadata": {
        "id": "kdUg705fFH3l"
      },
      "execution_count": 8,
      "outputs": []
    },
    {
      "cell_type": "code",
      "execution_count": 1,
      "metadata": {
        "id": "SnRm5c6-BBgb"
      },
      "outputs": [],
      "source": [
        "N=\"hello\"\n",
        "n=\"Hello\""
      ]
    },
    {
      "cell_type": "code",
      "source": [
        "type(n) #string ข้อความ"
      ],
      "metadata": {
        "colab": {
          "base_uri": "https://localhost:8080/"
        },
        "id": "CfG2hhR-E_MO",
        "outputId": "022dd107-9e12-4a63-fb8b-c12cdce279f6"
      },
      "execution_count": 7,
      "outputs": [
        {
          "output_type": "execute_result",
          "data": {
            "text/plain": [
              "str"
            ]
          },
          "metadata": {},
          "execution_count": 7
        }
      ]
    },
    {
      "cell_type": "code",
      "source": [
        "print(\"n\")"
      ],
      "metadata": {
        "colab": {
          "base_uri": "https://localhost:8080/"
        },
        "id": "0vYewpx_E6o8",
        "outputId": "02672905-73db-4c5c-da94-295284dab575"
      },
      "execution_count": 5,
      "outputs": [
        {
          "output_type": "stream",
          "name": "stdout",
          "text": [
            "n\n"
          ]
        }
      ]
    },
    {
      "cell_type": "code",
      "source": [
        "print(n)"
      ],
      "metadata": {
        "colab": {
          "base_uri": "https://localhost:8080/"
        },
        "id": "XXpNMdEEEu1b",
        "outputId": "f389815a-2733-450f-827a-08e76caa7bf7"
      },
      "execution_count": 3,
      "outputs": [
        {
          "output_type": "stream",
          "name": "stdout",
          "text": [
            "Hello\n"
          ]
        }
      ]
    },
    {
      "cell_type": "code",
      "source": [
        "print(N)"
      ],
      "metadata": {
        "colab": {
          "base_uri": "https://localhost:8080/"
        },
        "id": "5oLYkRUfExIR",
        "outputId": "5a5c3b87-63e2-4fab-e952-885a4e3faf92"
      },
      "execution_count": 4,
      "outputs": [
        {
          "output_type": "stream",
          "name": "stdout",
          "text": [
            "hello\n"
          ]
        }
      ]
    },
    {
      "cell_type": "markdown",
      "source": [
        "# 5\n"
      ],
      "metadata": {
        "id": "NwtV1lNCFaCe"
      }
    },
    {
      "cell_type": "code",
      "source": [
        "a=2\n",
        "aa=22\n",
        "b=\"Mahawachiravut\""
      ],
      "metadata": {
        "id": "4_tgVscLFQJw"
      },
      "execution_count": 10,
      "outputs": []
    },
    {
      "cell_type": "code",
      "source": [
        "N=\"hello\"\n",
        "n='Hello'\n",
        "print(n,\"Songkhla\",b)"
      ],
      "metadata": {
        "colab": {
          "base_uri": "https://localhost:8080/"
        },
        "id": "4H6uHCb4FpRd",
        "outputId": "1cdb8711-3710-4252-bffc-d7092978d879"
      },
      "execution_count": 11,
      "outputs": [
        {
          "output_type": "stream",
          "name": "stdout",
          "text": [
            "Hello Songkhla Mahawachiravut\n"
          ]
        }
      ]
    },
    {
      "cell_type": "code",
      "source": [
        "msg=n+\" Songkhla \"+b"
      ],
      "metadata": {
        "id": "aLeIOAg2GGEv"
      },
      "execution_count": 14,
      "outputs": []
    },
    {
      "cell_type": "code",
      "source": [
        "print(msg)"
      ],
      "metadata": {
        "colab": {
          "base_uri": "https://localhost:8080/"
        },
        "id": "R0nfe3VoGOZZ",
        "outputId": "5f0dd216-71ec-4c93-8f1a-41908eef1a9a"
      },
      "execution_count": 15,
      "outputs": [
        {
          "output_type": "stream",
          "name": "stdout",
          "text": [
            "Hello Songkhla Mahawachiravut\n"
          ]
        }
      ]
    },
    {
      "cell_type": "markdown",
      "source": [
        "# 7 float จำนวนจริงเป็นทศนิยม"
      ],
      "metadata": {
        "id": "vP6cMDysGiqW"
      }
    },
    {
      "cell_type": "markdown",
      "source": [
        "อายุ integer\n",
        "เบอร์โทร string\n",
        "ส่วนสูง float\n",
        "น้ำหนัก float"
      ],
      "metadata": {
        "id": "C-LfyRrgGrq6"
      }
    },
    {
      "cell_type": "markdown",
      "source": [
        "# 8  การตั้งชื่อตัวแปร"
      ],
      "metadata": {
        "id": "SKruvHo2HAAc"
      }
    },
    {
      "cell_type": "markdown",
      "source": [
        "ไม่เป็นคำสงวน คำสั่งที่มีอยู่ในภาษาpython เช่น if else str และอื่นๆๆ"
      ],
      "metadata": {
        "id": "hQAElxbXHHlq"
      }
    },
    {
      "cell_type": "markdown",
      "source": [
        "ไม่มีตัวเลขนำหน้า"
      ],
      "metadata": {
        "id": "JMJ9BdLtHVbh"
      }
    },
    {
      "cell_type": "markdown",
      "source": [
        "ควรที่จะยาวติดกันและสื่อความหมายได้"
      ],
      "metadata": {
        "id": "hhmz7KL4HcLc"
      }
    },
    {
      "cell_type": "markdown",
      "source": [
        "9 พื้นที่ area"
      ],
      "metadata": {
        "id": "uOUU6VsFHgGw"
      }
    },
    {
      "cell_type": "markdown",
      "source": [
        "# Data type"
      ],
      "metadata": {
        "id": "Z1E8hafWHuON"
      }
    },
    {
      "cell_type": "code",
      "source": [
        "#ตัวแปรคือค่าที่ถูกตั้งชื่อซึ่งสามารถเปลี่ยนแปลงค่าได้"
      ],
      "metadata": {
        "id": "UfnI9SdtIg69"
      },
      "execution_count": null,
      "outputs": []
    },
    {
      "cell_type": "code",
      "source": [
        "a=5"
      ],
      "metadata": {
        "id": "CAjuqvuCItVp"
      },
      "execution_count": 16,
      "outputs": []
    },
    {
      "cell_type": "code",
      "source": [
        "a=10"
      ],
      "metadata": {
        "id": "lWPfAf35Iwrq"
      },
      "execution_count": 17,
      "outputs": []
    },
    {
      "cell_type": "code",
      "source": [
        "print(type(a))"
      ],
      "metadata": {
        "colab": {
          "base_uri": "https://localhost:8080/"
        },
        "id": "0lzNgj1xIydj",
        "outputId": "beb59e5f-dbfe-4227-aad5-8cadbf512a7b"
      },
      "execution_count": 21,
      "outputs": [
        {
          "output_type": "stream",
          "name": "stdout",
          "text": [
            "<class 'str'>\n"
          ]
        }
      ]
    },
    {
      "cell_type": "code",
      "source": [
        "a=\"10\""
      ],
      "metadata": {
        "id": "HuDcLfUxI3UO"
      },
      "execution_count": 19,
      "outputs": []
    },
    {
      "cell_type": "code",
      "source": [
        "# string คือ กลุ่มของอักขระ เช่น \"dog\""
      ],
      "metadata": {
        "id": "hvS4b9DnIKDb"
      },
      "execution_count": null,
      "outputs": []
    },
    {
      "cell_type": "code",
      "source": [
        "animal_type=\"dog\"\n",
        "print(len(animal_type))"
      ],
      "metadata": {
        "colab": {
          "base_uri": "https://localhost:8080/"
        },
        "id": "yxfIHuV4JCRX",
        "outputId": "f287a1de-b72e-490f-d449-a8adae4be547"
      },
      "execution_count": 22,
      "outputs": [
        {
          "output_type": "stream",
          "name": "stdout",
          "text": [
            "3\n"
          ]
        }
      ]
    }
  ]
}