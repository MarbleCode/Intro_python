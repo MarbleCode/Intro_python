{
  "nbformat": 4,
  "nbformat_minor": 0,
  "metadata": {
    "colab": {
      "name": "numpy_python_by_Haru.ipynb",
      "provenance": [],
      "authorship_tag": "ABX9TyP7fEvq/fXnRss16WRj7Ir5",
      "include_colab_link": true
    },
    "kernelspec": {
      "name": "python3",
      "display_name": "Python 3"
    },
    "language_info": {
      "name": "python"
    }
  },
  "cells": [
    {
      "cell_type": "markdown",
      "metadata": {
        "id": "view-in-github",
        "colab_type": "text"
      },
      "source": [
        "<a href=\"https://colab.research.google.com/github/MarbleCode/Intro_python/blob/main/numpy_python_by_Haru.ipynb\" target=\"_parent\"><img src=\"https://colab.research.google.com/assets/colab-badge.svg\" alt=\"Open In Colab\"/></a>"
      ]
    },
    {
      "cell_type": "code",
      "execution_count": 1,
      "metadata": {
        "id": "V7hiTnglSTAP"
      },
      "outputs": [],
      "source": [
        "import numpy as np"
      ]
    },
    {
      "cell_type": "markdown",
      "source": [
        "# 5"
      ],
      "metadata": {
        "id": "adl3PfabS9XY"
      }
    },
    {
      "cell_type": "code",
      "source": [
        "array = np.arange(6)\n",
        "print(array)"
      ],
      "metadata": {
        "colab": {
          "base_uri": "https://localhost:8080/"
        },
        "id": "yMJvnQj_Sk7W",
        "outputId": "3ee75d3b-d4de-487a-aee3-6c5d897a0987"
      },
      "execution_count": 2,
      "outputs": [
        {
          "output_type": "stream",
          "name": "stdout",
          "text": [
            "[0 1 2 3 4 5]\n"
          ]
        }
      ]
    },
    {
      "cell_type": "markdown",
      "source": [
        "# 6"
      ],
      "metadata": {
        "id": "5lcMc0XFTAMC"
      }
    },
    {
      "cell_type": "code",
      "source": [
        "# [[1,2,3],  \n",
        "#  [4,5,6],\n",
        "#  [7,8,9]]\n",
        "#  3x3\n",
        "# คล้าย เมทริกซ์\n",
        "# (แถว , คอลัมน์)\n",
        "#  [[(0,0),(0,1),(0,2)],  \n",
        "#  [(1,0),(1,1),(1,2)],\n",
        "#  [(2,0),(2,1),(2,2)]]"
      ],
      "metadata": {
        "id": "AkUf2IoWTfNo"
      },
      "execution_count": null,
      "outputs": []
    },
    {
      "cell_type": "code",
      "source": [
        "array2D = np.array([[1,2,3],[4,5,6],[7,8,9]])\n",
        "print(array2D[2,2])"
      ],
      "metadata": {
        "colab": {
          "base_uri": "https://localhost:8080/"
        },
        "id": "_vuKGAnJS7rJ",
        "outputId": "cb91b32b-d9b0-422d-b990-a38cfda1bc33"
      },
      "execution_count": 4,
      "outputs": [
        {
          "output_type": "stream",
          "name": "stdout",
          "text": [
            "9\n"
          ]
        }
      ]
    },
    {
      "cell_type": "code",
      "source": [
        "print(array2D[1,1])"
      ],
      "metadata": {
        "colab": {
          "base_uri": "https://localhost:8080/"
        },
        "id": "9HszALOHUGde",
        "outputId": "30978f06-8019-4f7e-ad8e-d1a09fb4d107"
      },
      "execution_count": 5,
      "outputs": [
        {
          "output_type": "stream",
          "name": "stdout",
          "text": [
            "5\n"
          ]
        }
      ]
    },
    {
      "cell_type": "markdown",
      "source": [
        "# 7"
      ],
      "metadata": {
        "id": "ykP8-LhPUbct"
      }
    },
    {
      "cell_type": "code",
      "source": [
        "# array = np.ตำแหน่ง([0,1,2,3,4,5,6,7,8])\n",
        "array = np.array([20,21,22,23,24,25,26,27,28])\n",
        "print(array[0])\n",
        "# print(array[2:7])"
      ],
      "metadata": {
        "colab": {
          "base_uri": "https://localhost:8080/"
        },
        "id": "rJ41OC9-Ud4r",
        "outputId": "7dec514e-cbfc-4e9a-8b5d-cc1caeea7d46"
      },
      "execution_count": 6,
      "outputs": [
        {
          "output_type": "stream",
          "name": "stdout",
          "text": [
            "20\n"
          ]
        }
      ]
    },
    {
      "cell_type": "code",
      "source": [
        "#print(array[start:stop+1:step])\n",
        "print(array[2:7])"
      ],
      "metadata": {
        "colab": {
          "base_uri": "https://localhost:8080/"
        },
        "id": "TzSBcepeVE6q",
        "outputId": "6ca9be3b-3b11-469b-f5f7-bae6403c89f5"
      },
      "execution_count": 7,
      "outputs": [
        {
          "output_type": "stream",
          "name": "stdout",
          "text": [
            "[22 23 24 25 26]\n"
          ]
        }
      ]
    },
    {
      "cell_type": "markdown",
      "source": [
        "# 8"
      ],
      "metadata": {
        "id": "gPwhr3GbV4Rt"
      }
    },
    {
      "cell_type": "code",
      "source": [
        "array = np.array([20,21,22,23,24,25,26,27])\n",
        "print(array[array>23])"
      ],
      "metadata": {
        "colab": {
          "base_uri": "https://localhost:8080/"
        },
        "id": "LDE06Jp2V6Y_",
        "outputId": "b50ceac7-de3a-4800-87e1-5d6db87026f4"
      },
      "execution_count": 8,
      "outputs": [
        {
          "output_type": "stream",
          "name": "stdout",
          "text": [
            "[24 25 26 27]\n"
          ]
        }
      ]
    },
    {
      "cell_type": "markdown",
      "source": [
        "# 9"
      ],
      "metadata": {
        "id": "iX971ETbWR_C"
      }
    },
    {
      "cell_type": "code",
      "source": [
        "array = np.array([2,3,4,5,6])\n",
        "array+=1\n",
        "array*2\n",
        "print(array)"
      ],
      "metadata": {
        "colab": {
          "base_uri": "https://localhost:8080/"
        },
        "id": "9zvG6xXSWUa6",
        "outputId": "ef2e15c9-8dca-4b2e-eaeb-8e6a1f5ab004"
      },
      "execution_count": 9,
      "outputs": [
        {
          "output_type": "stream",
          "name": "stdout",
          "text": [
            "[3 4 5 6 7]\n"
          ]
        }
      ]
    },
    {
      "cell_type": "code",
      "source": [
        "array*2"
      ],
      "metadata": {
        "colab": {
          "base_uri": "https://localhost:8080/"
        },
        "id": "RsKsV-4mWzqo",
        "outputId": "4c2accb7-f808-4187-a020-41046fab5fcf"
      },
      "execution_count": 10,
      "outputs": [
        {
          "output_type": "execute_result",
          "data": {
            "text/plain": [
              "array([ 6,  8, 10, 12, 14])"
            ]
          },
          "metadata": {},
          "execution_count": 10
        }
      ]
    },
    {
      "cell_type": "code",
      "source": [
        "2+2"
      ],
      "metadata": {
        "colab": {
          "base_uri": "https://localhost:8080/"
        },
        "id": "EUe2noPtW48h",
        "outputId": "f14dabd0-2405-419f-e8c3-d7f2220e7dd5"
      },
      "execution_count": 11,
      "outputs": [
        {
          "output_type": "execute_result",
          "data": {
            "text/plain": [
              "4"
            ]
          },
          "metadata": {},
          "execution_count": 11
        }
      ]
    },
    {
      "cell_type": "markdown",
      "source": [
        "# 10\n"
      ],
      "metadata": {
        "id": "Db-Zi7GoXg1m"
      }
    },
    {
      "cell_type": "code",
      "source": [
        "array1=np.arange(5) #[0,1,2,3,4]"
      ],
      "metadata": {
        "id": "XJE_-1LuXkVd"
      },
      "execution_count": 14,
      "outputs": []
    },
    {
      "cell_type": "code",
      "source": [
        "array1"
      ],
      "metadata": {
        "colab": {
          "base_uri": "https://localhost:8080/"
        },
        "id": "Y-pndYb3YB--",
        "outputId": "3f65e75f-40ce-4edf-e46c-d86b32f3a800"
      },
      "execution_count": 15,
      "outputs": [
        {
          "output_type": "execute_result",
          "data": {
            "text/plain": [
              "array([0, 1, 2, 3, 4])"
            ]
          },
          "metadata": {},
          "execution_count": 15
        }
      ]
    },
    {
      "cell_type": "code",
      "source": [
        "array2=np.arange(10,20)"
      ],
      "metadata": {
        "id": "YRIKlVPTYE_z"
      },
      "execution_count": 16,
      "outputs": []
    },
    {
      "cell_type": "code",
      "source": [
        "array2"
      ],
      "metadata": {
        "colab": {
          "base_uri": "https://localhost:8080/"
        },
        "id": "6hV2sszwYQLM",
        "outputId": "5bf0cf5b-7b23-4c43-d035-b64caf333f08"
      },
      "execution_count": 17,
      "outputs": [
        {
          "output_type": "execute_result",
          "data": {
            "text/plain": [
              "array([10, 11, 12, 13, 14, 15, 16, 17, 18, 19])"
            ]
          },
          "metadata": {},
          "execution_count": 17
        }
      ]
    },
    {
      "cell_type": "code",
      "source": [
        "array3=array2[1:6]"
      ],
      "metadata": {
        "id": "QX2b3GEFYUjv"
      },
      "execution_count": 18,
      "outputs": []
    },
    {
      "cell_type": "code",
      "source": [
        "array3"
      ],
      "metadata": {
        "colab": {
          "base_uri": "https://localhost:8080/"
        },
        "id": "QeyBJFB4Yfs8",
        "outputId": "546b0ff4-35a3-44ae-ff0b-73cd9aab9a72"
      },
      "execution_count": 19,
      "outputs": [
        {
          "output_type": "execute_result",
          "data": {
            "text/plain": [
              "array([11, 12, 13, 14, 15])"
            ]
          },
          "metadata": {},
          "execution_count": 19
        }
      ]
    },
    {
      "cell_type": "code",
      "source": [
        "array4=array3-array1"
      ],
      "metadata": {
        "id": "CKLO3nK3YpNI"
      },
      "execution_count": 20,
      "outputs": []
    },
    {
      "cell_type": "code",
      "source": [
        "array4"
      ],
      "metadata": {
        "colab": {
          "base_uri": "https://localhost:8080/"
        },
        "id": "VbB5pox3Yzng",
        "outputId": "22009fa9-33bb-4b9d-caeb-36c616517c87"
      },
      "execution_count": 21,
      "outputs": [
        {
          "output_type": "execute_result",
          "data": {
            "text/plain": [
              "array([11, 11, 11, 11, 11])"
            ]
          },
          "metadata": {},
          "execution_count": 21
        }
      ]
    },
    {
      "cell_type": "code",
      "source": [
        "print(array4+array2[2:7])"
      ],
      "metadata": {
        "colab": {
          "base_uri": "https://localhost:8080/"
        },
        "id": "8OSNUMrSY_Q5",
        "outputId": "b272a70c-d941-4a3d-d123-5568be4ca49f"
      },
      "execution_count": 22,
      "outputs": [
        {
          "output_type": "stream",
          "name": "stdout",
          "text": [
            "[23 24 25 26 27]\n"
          ]
        }
      ]
    },
    {
      "cell_type": "markdown",
      "source": [
        "# function 4 type\n",
        "## 1. รับค่าเท่านั้น\n",
        "## 2. รับค่าและส่งค่าด้วย\n",
        "## 3. ส่งค่าเท่านั้น\n",
        "## 4. ไม่มีรับค่า ไม่มีส่งค่า"
      ],
      "metadata": {
        "id": "KnoCTHCNZh6g"
      }
    },
    {
      "cell_type": "code",
      "source": [
        "def numpy_sum1(a,b):\n",
        "  sum=a+b\n",
        "  print(sum)"
      ],
      "metadata": {
        "id": "FqqVN3QaZ_FK"
      },
      "execution_count": 28,
      "outputs": []
    },
    {
      "cell_type": "code",
      "source": [
        "def numpy_sum2(a,b):\n",
        "  sum = a+b\n",
        "  return sum"
      ],
      "metadata": {
        "id": "lzuoDnV_aixx"
      },
      "execution_count": 26,
      "outputs": []
    },
    {
      "cell_type": "code",
      "source": [
        "def numpy_sum3():\n",
        "  a=100\n",
        "  b=200\n",
        "  sum = a+b\n",
        "  return sum"
      ],
      "metadata": {
        "id": "PSpLtVG2bRnH"
      },
      "execution_count": 38,
      "outputs": []
    },
    {
      "cell_type": "code",
      "source": [
        "def numpy_sum4():\n",
        "  a=100\n",
        "  b=200\n",
        "  sum = a+b\n",
        "  print(sum)"
      ],
      "metadata": {
        "id": "RjG1WNZYb-Oq"
      },
      "execution_count": 46,
      "outputs": []
    },
    {
      "cell_type": "markdown",
      "source": [
        "## การเรียกใช้ฟังก์ชัน method"
      ],
      "metadata": {
        "id": "QLIkOFe1aWVW"
      }
    },
    {
      "cell_type": "code",
      "source": [
        "numpy_sum4()"
      ],
      "metadata": {
        "colab": {
          "base_uri": "https://localhost:8080/"
        },
        "id": "E6xE67RJcHB6",
        "outputId": "0360ee1f-e4e6-40ad-ec17-890febf6b638"
      },
      "execution_count": 47,
      "outputs": [
        {
          "output_type": "stream",
          "name": "stdout",
          "text": [
            "300\n"
          ]
        }
      ]
    },
    {
      "cell_type": "code",
      "source": [
        "sum4=numpy_sum4()"
      ],
      "metadata": {
        "colab": {
          "base_uri": "https://localhost:8080/"
        },
        "id": "37CYp32IcI9r",
        "outputId": "458ef7dd-18a5-49ee-c117-f8205fffa673"
      },
      "execution_count": 50,
      "outputs": [
        {
          "output_type": "stream",
          "name": "stdout",
          "text": [
            "300\n"
          ]
        }
      ]
    },
    {
      "cell_type": "code",
      "source": [
        "sum4"
      ],
      "metadata": {
        "id": "bWM729hJcLab"
      },
      "execution_count": 51,
      "outputs": []
    },
    {
      "cell_type": "code",
      "source": [
        "sum = numpy_sum2(100,200)"
      ],
      "metadata": {
        "id": "WLBN__e_a90v"
      },
      "execution_count": 31,
      "outputs": []
    },
    {
      "cell_type": "code",
      "source": [
        "sum"
      ],
      "metadata": {
        "colab": {
          "base_uri": "https://localhost:8080/"
        },
        "id": "JU24yJkmbA94",
        "outputId": "ea1b2b5e-afff-47ac-ba14-90f01dc636e2"
      },
      "execution_count": 32,
      "outputs": [
        {
          "output_type": "execute_result",
          "data": {
            "text/plain": [
              "300"
            ]
          },
          "metadata": {},
          "execution_count": 32
        }
      ]
    },
    {
      "cell_type": "code",
      "source": [
        "numpy_sum2(100,200)"
      ],
      "metadata": {
        "colab": {
          "base_uri": "https://localhost:8080/"
        },
        "id": "dRG3MVgGaxo2",
        "outputId": "76bf6f4b-e209-47ff-c6ea-3f04d99f9c35"
      },
      "execution_count": 30,
      "outputs": [
        {
          "output_type": "execute_result",
          "data": {
            "text/plain": [
              "300"
            ]
          },
          "metadata": {},
          "execution_count": 30
        }
      ]
    },
    {
      "cell_type": "code",
      "source": [
        "sum1 = numpy_sum1(100,200)"
      ],
      "metadata": {
        "colab": {
          "base_uri": "https://localhost:8080/"
        },
        "id": "eL4EJfOgbEoB",
        "outputId": "da4fe130-982a-4e91-a7ca-570b10403ba0"
      },
      "execution_count": 33,
      "outputs": [
        {
          "output_type": "stream",
          "name": "stdout",
          "text": [
            "300\n"
          ]
        }
      ]
    },
    {
      "cell_type": "code",
      "source": [
        "sum1"
      ],
      "metadata": {
        "id": "5d7jXcb9bJM3"
      },
      "execution_count": 34,
      "outputs": []
    },
    {
      "cell_type": "code",
      "source": [
        "numpy_sum1(100,200)"
      ],
      "metadata": {
        "colab": {
          "base_uri": "https://localhost:8080/"
        },
        "id": "_dIxUcqHaagJ",
        "outputId": "a159e167-dd7f-4527-b1a5-72676b82528d"
      },
      "execution_count": 29,
      "outputs": [
        {
          "output_type": "stream",
          "name": "stdout",
          "text": [
            "300\n"
          ]
        }
      ]
    },
    {
      "cell_type": "code",
      "source": [
        "sum3=numpy_sum3()"
      ],
      "metadata": {
        "id": "IQQFJFCgbjX7"
      },
      "execution_count": 40,
      "outputs": []
    },
    {
      "cell_type": "code",
      "source": [
        "sum3"
      ],
      "metadata": {
        "colab": {
          "base_uri": "https://localhost:8080/"
        },
        "id": "Z3glXs11bq_-",
        "outputId": "1bf7dbb5-f1ed-483f-a584-4b1e73333abe"
      },
      "execution_count": 41,
      "outputs": [
        {
          "output_type": "execute_result",
          "data": {
            "text/plain": [
              "300"
            ]
          },
          "metadata": {},
          "execution_count": 41
        }
      ]
    }
  ]
}