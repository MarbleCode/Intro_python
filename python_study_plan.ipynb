{
  "nbformat": 4,
  "nbformat_minor": 0,
  "metadata": {
    "colab": {
      "name": "python_study_plan.ipynb",
      "provenance": [],
      "toc_visible": true,
      "authorship_tag": "ABX9TyOTI3f4IJEKYtWjF+0BoqxL",
      "include_colab_link": true
    },
    "kernelspec": {
      "name": "python3",
      "display_name": "Python 3"
    },
    "language_info": {
      "name": "python"
    }
  },
  "cells": [
    {
      "cell_type": "markdown",
      "metadata": {
        "id": "view-in-github",
        "colab_type": "text"
      },
      "source": [
        "<a href=\"https://colab.research.google.com/github/MarbleCode/Intro_python/blob/main/python_study_plan.ipynb\" target=\"_parent\"><img src=\"https://colab.research.google.com/assets/colab-badge.svg\" alt=\"Open In Colab\"/></a>"
      ]
    },
    {
      "cell_type": "markdown",
      "source": [
        "# วางแผนการเขียนโปรแกรม"
      ],
      "metadata": {
        "id": "lyffF_1hqbcf"
      }
    },
    {
      "cell_type": "markdown",
      "source": [
        "## จงเขียนโปรแกรม บวก เลขสองตัว\n",
        "draw.io --> สร้าง Flowchart"
      ],
      "metadata": {
        "id": "tdCFnuE5rQ5g"
      }
    },
    {
      "cell_type": "markdown",
      "source": [
        "ขั้นตอนวิธี"
      ],
      "metadata": {
        "id": "NTnIuEkwu_jf"
      }
    },
    {
      "cell_type": "code",
      "source": [
        "1. พิมพ์ข้อมูล สอง ตัว จาก แป้นพิมพ์\n",
        "2. เอาเลขสองตัวนั้นมาบวกกัน\n",
        "3. แสดงผลรวมของเลขสองตัว"
      ],
      "metadata": {
        "id": "TA0isycXuxTo"
      },
      "execution_count": null,
      "outputs": []
    },
    {
      "cell_type": "markdown",
      "source": [
        "code"
      ],
      "metadata": {
        "id": "IFojxOAlwz9v"
      }
    },
    {
      "cell_type": "code",
      "source": [
        "#1. ตั้งค่าตัวแปรของ ข้อมูล สอง ตัว \n",
        "a=1\n",
        "b=2\n",
        "#2. เอาเลขสองตัวนั้นมาบวกกัน\n",
        "sum=a+b\n",
        "#3. แสดงผลรวมของเลขสองตัว\n",
        "print(sum)\n"
      ],
      "metadata": {
        "colab": {
          "base_uri": "https://localhost:8080/"
        },
        "id": "M3yBkQwkwylE",
        "outputId": "300cb9d5-041d-4be8-bedc-b8fd66380a76"
      },
      "execution_count": 2,
      "outputs": [
        {
          "output_type": "stream",
          "name": "stdout",
          "text": [
            "3\n"
          ]
        }
      ]
    },
    {
      "cell_type": "code",
      "source": [
        "#1. พิมพ์ข้อมูล สอง ตัว จาก แป้นพิมพ์\n",
        "a=input()\n",
        "print(type(a))\n",
        "b=input()\n",
        "print(type(b))\n",
        "#2. เอาเลขสองตัวนั้นมาบวกกัน\n",
        "sum=a+b\n",
        "print(type(sum))\n",
        "#3. แสดงผลรวมของเลขสองตัว\n",
        "print(sum)"
      ],
      "metadata": {
        "colab": {
          "base_uri": "https://localhost:8080/"
        },
        "id": "U_jvPCEKx8Ak",
        "outputId": "a082fbea-496e-4af8-d519-bd6b41e0f98a"
      },
      "execution_count": 6,
      "outputs": [
        {
          "output_type": "stream",
          "name": "stdout",
          "text": [
            "1\n",
            "<class 'str'>\n",
            "2\n",
            "<class 'str'>\n",
            "<class 'str'>\n",
            "12\n"
          ]
        }
      ]
    },
    {
      "cell_type": "code",
      "source": [
        "#1. พิมพ์ข้อมูล สอง ตัว จาก แป้นพิมพ์ \n",
        "#1.1 รับค่าตัวแรก เปลี่ยนค่า string เป็น integer\n",
        "a=int(input('Enter a: '))\n",
        "#print(type(a))\n",
        "#1.2 รับค่าตัวสอง เปลี่ยนค่า string เป็น integer\n",
        "b=int(input('Enter b: '))\n",
        "#print(type(b))\n",
        "#2. เอาเลขสองตัวนั้นมาบวกกัน\n",
        "sum=a+b\n",
        "#print(type(sum))\n",
        "#3. แสดงผลรวมของเลขสองตัว\n",
        "print('sum of a+b: ',sum)"
      ],
      "metadata": {
        "colab": {
          "base_uri": "https://localhost:8080/"
        },
        "outputId": "0c7c13a8-2f08-4db2-a899-f8266199eb69",
        "id": "Tf7KM7etzvlD"
      },
      "execution_count": 10,
      "outputs": [
        {
          "output_type": "stream",
          "name": "stdout",
          "text": [
            "Enter a: 1\n",
            "Enter b: 2\n",
            "sum of a+b:  3\n"
          ]
        }
      ]
    },
    {
      "cell_type": "code",
      "execution_count": null,
      "metadata": {
        "id": "w4SgivM5qF6g"
      },
      "outputs": [],
      "source": [
        ""
      ]
    }
  ]
}